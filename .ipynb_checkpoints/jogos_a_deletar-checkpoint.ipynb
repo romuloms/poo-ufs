{
 "cells": [
  {
   "cell_type": "code",
   "execution_count": 15,
   "id": "3c86a11d-3a8b-4d44-90c9-67bb631616c7",
   "metadata": {},
   "outputs": [
    {
     "name": "stdout",
     "output_type": "stream",
     "text": [
      "True\n"
     ]
    }
   ],
   "source": [
    "import pandas as pd\n",
    "\n",
    "df = pd.read_csv('jogos_del.txt', names=['Cod'])\n",
    "\n",
    "print('SLUS_213.15' in df['Cod'].unique())"
   ]
  },
  {
   "cell_type": "code",
   "execution_count": null,
   "id": "1e7800f5-cdc2-41b5-9a00-f108f5f92109",
   "metadata": {},
   "outputs": [],
   "source": []
  }
 ],
 "metadata": {
  "kernelspec": {
   "display_name": "Python 3 (ipykernel)",
   "language": "python",
   "name": "python3"
  },
  "language_info": {
   "codemirror_mode": {
    "name": "ipython",
    "version": 3
   },
   "file_extension": ".py",
   "mimetype": "text/x-python",
   "name": "python",
   "nbconvert_exporter": "python",
   "pygments_lexer": "ipython3",
   "version": "3.11.3"
  }
 },
 "nbformat": 4,
 "nbformat_minor": 5
}
